{
 "cells": [
  {
   "cell_type": "code",
   "execution_count": 1,
   "id": "14226b11",
   "metadata": {},
   "outputs": [],
   "source": [
    "from sklearn.ensemble import RandomForestClassifier, StackingClassifier\n",
    "from sklearn.svm import SVC\n",
    "from sklearn.tree import DecisionTreeClassifier\n",
    "from sklearn.neural_network import MLPClassifier\n",
    "from sklearn.naive_bayes import GaussianNB\n",
    "from sklearn.neighbors import KNeighborsClassifier\n",
    "from sklearn.datasets import make_classification\n",
    "from sklearn.model_selection import train_test_split\n",
    "from sklearn.metrics import accuracy_score\n",
    "import pandas as pd\n",
    "from sklearn.ensemble import IsolationForest\n",
    "\n",
    "\n",
    "# Importing the libraries\n",
    "import numpy as np\n",
    "import matplotlib.pyplot as plt\n",
    "import pandas as pd\n",
    "\n",
    "# Importing the dataset\n",
    "dataset = pd.read_csv('cleve.csv')\n",
    "X = dataset.iloc[:,:-1].values\n",
    "y = dataset.iloc[:, 13].values\n",
    "\n",
    "#handling missing data\n",
    "from sklearn.impute import SimpleImputer\n",
    "imputer = SimpleImputer(strategy='mean')\n",
    "\n",
    "imputer=imputer.fit(X[:,11:13])\n",
    "X[:,11:13]=imputer.transform(X[:,11:13])\n",
    "\n",
    "# Use Isolation Forest to remove outliers\n",
    "model = IsolationForest(contamination='auto', random_state=1)\n",
    "model.fit(X)\n",
    "\n",
    "# Splitting the dataset into the Training set and Test set\n",
    "from sklearn.model_selection import train_test_split\n",
    "X_train, X_test, y_train, y_test = train_test_split(X, y, test_size = 0.2, random_state =101)\n",
    "\n",
    "# Feature Scaling\n",
    "from sklearn.preprocessing import StandardScaler\n",
    "sc = StandardScaler()\n",
    "X_train = sc.fit_transform(X_train)\n",
    "X_test = sc.transform(X_test)"
   ]
  },
  {
   "cell_type": "code",
   "execution_count": 2,
   "id": "fd916292",
   "metadata": {},
   "outputs": [
    {
     "name": "stdout",
     "output_type": "stream",
     "text": [
      "Accuracy: 0.7540983606557377\n"
     ]
    }
   ],
   "source": [
    "# define the machine learning models to be used\n",
    "gnb = GaussianNB()\n",
    "dt = DecisionTreeClassifier()\n",
    "\n",
    "# create a list of tuples containing the name and model object for each base model\n",
    "base_models = [('gnb', gnb), ('dt', dt)]\n",
    "\n",
    "# define the meta-model to be used for combining the predictions of the base models\n",
    "rf = RandomForestClassifier(n_estimators=100, random_state=1)\n",
    "\n",
    "# define the stacking classifier object\n",
    "stack = StackingClassifier(estimators=base_models, final_estimator=rf, cv=5)\n",
    "\n",
    "# fit the stacking classifier to the training data\n",
    "stack.fit(X_train, y_train)\n",
    "\n",
    "# make predictions using the stacking classifier\n",
    "y_pred = stack.predict(X_test)\n",
    "\n",
    "# evaluate the accuracy of the predictions\n",
    "accuracy = accuracy_score(y_test, y_pred)\n",
    "print(\"Accuracy:\", accuracy)"
   ]
  },
  {
   "cell_type": "code",
   "execution_count": 3,
   "id": "c7e983e1",
   "metadata": {},
   "outputs": [
    {
     "name": "stderr",
     "output_type": "stream",
     "text": [
      "C:\\Users\\vaibh\\anaconda3\\lib\\site-packages\\sklearn\\neural_network\\_multilayer_perceptron.py:692: ConvergenceWarning: Stochastic Optimizer: Maximum iterations (200) reached and the optimization hasn't converged yet.\n",
      "  warnings.warn(\n",
      "C:\\Users\\vaibh\\anaconda3\\lib\\site-packages\\sklearn\\neural_network\\_multilayer_perceptron.py:692: ConvergenceWarning: Stochastic Optimizer: Maximum iterations (200) reached and the optimization hasn't converged yet.\n",
      "  warnings.warn(\n",
      "C:\\Users\\vaibh\\anaconda3\\lib\\site-packages\\sklearn\\neural_network\\_multilayer_perceptron.py:692: ConvergenceWarning: Stochastic Optimizer: Maximum iterations (200) reached and the optimization hasn't converged yet.\n",
      "  warnings.warn(\n",
      "C:\\Users\\vaibh\\anaconda3\\lib\\site-packages\\sklearn\\neural_network\\_multilayer_perceptron.py:692: ConvergenceWarning: Stochastic Optimizer: Maximum iterations (200) reached and the optimization hasn't converged yet.\n",
      "  warnings.warn(\n",
      "C:\\Users\\vaibh\\anaconda3\\lib\\site-packages\\sklearn\\neural_network\\_multilayer_perceptron.py:692: ConvergenceWarning: Stochastic Optimizer: Maximum iterations (200) reached and the optimization hasn't converged yet.\n",
      "  warnings.warn(\n",
      "C:\\Users\\vaibh\\anaconda3\\lib\\site-packages\\sklearn\\neural_network\\_multilayer_perceptron.py:692: ConvergenceWarning: Stochastic Optimizer: Maximum iterations (200) reached and the optimization hasn't converged yet.\n",
      "  warnings.warn(\n"
     ]
    },
    {
     "name": "stdout",
     "output_type": "stream",
     "text": [
      "Accuracy: 0.7868852459016393\n"
     ]
    }
   ],
   "source": [
    "# define the machine learning models to be used\n",
    "gnb = GaussianNB()\n",
    "nn = MLPClassifier()\n",
    "\n",
    "# create a list of tuples containing the name and model object for each base model\n",
    "base_models = [('gnb', gnb), ('nn',nn)]\n",
    "\n",
    "# define the meta-model to be used for combining the predictions of the base models\n",
    "rf = RandomForestClassifier(n_estimators=100, random_state=1)\n",
    "\n",
    "# define the stacking classifier object\n",
    "stack = StackingClassifier(estimators=base_models, final_estimator=rf, cv=5)\n",
    "\n",
    "# fit the stacking classifier to the training data\n",
    "stack.fit(X_train, y_train)\n",
    "\n",
    "# make predictions using the stacking classifier\n",
    "y_pred = stack.predict(X_test)\n",
    "\n",
    "# evaluate the accuracy of the predictions\n",
    "accuracy = accuracy_score(y_test, y_pred)\n",
    "print(\"Accuracy:\", accuracy)"
   ]
  },
  {
   "cell_type": "code",
   "execution_count": 4,
   "id": "064c606b",
   "metadata": {},
   "outputs": [
    {
     "name": "stderr",
     "output_type": "stream",
     "text": [
      "C:\\Users\\vaibh\\anaconda3\\lib\\site-packages\\sklearn\\neural_network\\_multilayer_perceptron.py:692: ConvergenceWarning: Stochastic Optimizer: Maximum iterations (200) reached and the optimization hasn't converged yet.\n",
      "  warnings.warn(\n",
      "C:\\Users\\vaibh\\anaconda3\\lib\\site-packages\\sklearn\\neural_network\\_multilayer_perceptron.py:692: ConvergenceWarning: Stochastic Optimizer: Maximum iterations (200) reached and the optimization hasn't converged yet.\n",
      "  warnings.warn(\n",
      "C:\\Users\\vaibh\\anaconda3\\lib\\site-packages\\sklearn\\neural_network\\_multilayer_perceptron.py:692: ConvergenceWarning: Stochastic Optimizer: Maximum iterations (200) reached and the optimization hasn't converged yet.\n",
      "  warnings.warn(\n",
      "C:\\Users\\vaibh\\anaconda3\\lib\\site-packages\\sklearn\\neural_network\\_multilayer_perceptron.py:692: ConvergenceWarning: Stochastic Optimizer: Maximum iterations (200) reached and the optimization hasn't converged yet.\n",
      "  warnings.warn(\n",
      "C:\\Users\\vaibh\\anaconda3\\lib\\site-packages\\sklearn\\neural_network\\_multilayer_perceptron.py:692: ConvergenceWarning: Stochastic Optimizer: Maximum iterations (200) reached and the optimization hasn't converged yet.\n",
      "  warnings.warn(\n",
      "C:\\Users\\vaibh\\anaconda3\\lib\\site-packages\\sklearn\\neural_network\\_multilayer_perceptron.py:692: ConvergenceWarning: Stochastic Optimizer: Maximum iterations (200) reached and the optimization hasn't converged yet.\n",
      "  warnings.warn(\n"
     ]
    },
    {
     "name": "stdout",
     "output_type": "stream",
     "text": [
      "Accuracy: 0.7704918032786885\n"
     ]
    }
   ],
   "source": [
    "# define the machine learning models to be used\n",
    "dt = DecisionTreeClassifier()\n",
    "nn = MLPClassifier()\n",
    "\n",
    "# create a list of tuples containing the name and model object for each base model\n",
    "base_models = [('dt', dt), ('nn',nn)]\n",
    "\n",
    "# define the meta-model to be used for combining the predictions of the base models\n",
    "rf = RandomForestClassifier(n_estimators=100, random_state=1)\n",
    "\n",
    "# define the stacking classifier object\n",
    "stack = StackingClassifier(estimators=base_models, final_estimator=rf, cv=5)\n",
    "\n",
    "# fit the stacking classifier to the training data\n",
    "stack.fit(X_train, y_train)\n",
    "\n",
    "# make predictions using the stacking classifier\n",
    "y_pred = stack.predict(X_test)\n",
    "\n",
    "# evaluate the accuracy of the predictions\n",
    "accuracy = accuracy_score(y_test, y_pred)\n",
    "print(\"Accuracy:\", accuracy)"
   ]
  },
  {
   "cell_type": "code",
   "execution_count": 5,
   "id": "8b3109e8",
   "metadata": {},
   "outputs": [
    {
     "name": "stdout",
     "output_type": "stream",
     "text": [
      "Accuracy: 0.7377049180327869\n"
     ]
    }
   ],
   "source": [
    "# define the machine learning models to be used\n",
    "gnb = GaussianNB()\n",
    "knn = KNeighborsClassifier()\n",
    "\n",
    "\n",
    "# create a list of tuples containing the name and model object for each base model\n",
    "base_models = [('gnb', gnb), ('knn',knn)]\n",
    "\n",
    "# define the meta-model to be used for combining the predictions of the base models\n",
    "rf = RandomForestClassifier(n_estimators=100, random_state=1)\n",
    "\n",
    "# define the stacking classifier object\n",
    "stack = StackingClassifier(estimators=base_models, final_estimator=rf, cv=5)\n",
    "\n",
    "# fit the stacking classifier to the training data\n",
    "stack.fit(X_train, y_train)\n",
    "\n",
    "# make predictions using the stacking classifier\n",
    "y_pred = stack.predict(X_test)\n",
    "\n",
    "# evaluate the accuracy of the predictions\n",
    "accuracy = accuracy_score(y_test, y_pred)\n",
    "print(\"Accuracy:\", accuracy)"
   ]
  },
  {
   "cell_type": "code",
   "execution_count": 6,
   "id": "676196ef",
   "metadata": {},
   "outputs": [
    {
     "name": "stdout",
     "output_type": "stream",
     "text": [
      "Accuracy: 0.819672131147541\n"
     ]
    }
   ],
   "source": [
    "# define the machine learning models to be used\n",
    "dt = DecisionTreeClassifier()\n",
    "knn = KNeighborsClassifier()\n",
    "\n",
    "\n",
    "# create a list of tuples containing the name and model object for each base model\n",
    "base_models = [('dt', dt), ('knn',knn)]\n",
    "\n",
    "# define the meta-model to be used for combining the predictions of the base models\n",
    "rf = RandomForestClassifier(n_estimators=100, random_state=1)\n",
    "\n",
    "# define the stacking classifier object\n",
    "stack = StackingClassifier(estimators=base_models, final_estimator=rf, cv=5)\n",
    "\n",
    "# fit the stacking classifier to the training data\n",
    "stack.fit(X_train, y_train)\n",
    "\n",
    "# make predictions using the stacking classifier\n",
    "y_pred = stack.predict(X_test)\n",
    "\n",
    "# evaluate the accuracy of the predictions\n",
    "accuracy = accuracy_score(y_test, y_pred)\n",
    "print(\"Accuracy:\", accuracy)"
   ]
  },
  {
   "cell_type": "code",
   "execution_count": 7,
   "id": "dcc15568",
   "metadata": {},
   "outputs": [
    {
     "name": "stderr",
     "output_type": "stream",
     "text": [
      "C:\\Users\\vaibh\\anaconda3\\lib\\site-packages\\sklearn\\neural_network\\_multilayer_perceptron.py:692: ConvergenceWarning: Stochastic Optimizer: Maximum iterations (200) reached and the optimization hasn't converged yet.\n",
      "  warnings.warn(\n",
      "C:\\Users\\vaibh\\anaconda3\\lib\\site-packages\\sklearn\\neural_network\\_multilayer_perceptron.py:692: ConvergenceWarning: Stochastic Optimizer: Maximum iterations (200) reached and the optimization hasn't converged yet.\n",
      "  warnings.warn(\n",
      "C:\\Users\\vaibh\\anaconda3\\lib\\site-packages\\sklearn\\neural_network\\_multilayer_perceptron.py:692: ConvergenceWarning: Stochastic Optimizer: Maximum iterations (200) reached and the optimization hasn't converged yet.\n",
      "  warnings.warn(\n",
      "C:\\Users\\vaibh\\anaconda3\\lib\\site-packages\\sklearn\\neural_network\\_multilayer_perceptron.py:692: ConvergenceWarning: Stochastic Optimizer: Maximum iterations (200) reached and the optimization hasn't converged yet.\n",
      "  warnings.warn(\n",
      "C:\\Users\\vaibh\\anaconda3\\lib\\site-packages\\sklearn\\neural_network\\_multilayer_perceptron.py:692: ConvergenceWarning: Stochastic Optimizer: Maximum iterations (200) reached and the optimization hasn't converged yet.\n",
      "  warnings.warn(\n"
     ]
    },
    {
     "name": "stdout",
     "output_type": "stream",
     "text": [
      "Accuracy: 0.8360655737704918\n"
     ]
    },
    {
     "name": "stderr",
     "output_type": "stream",
     "text": [
      "C:\\Users\\vaibh\\anaconda3\\lib\\site-packages\\sklearn\\neural_network\\_multilayer_perceptron.py:692: ConvergenceWarning: Stochastic Optimizer: Maximum iterations (200) reached and the optimization hasn't converged yet.\n",
      "  warnings.warn(\n"
     ]
    }
   ],
   "source": [
    "# define the machine learning models to be used\n",
    "nn = MLPClassifier()\n",
    "knn = KNeighborsClassifier()\n",
    "\n",
    "\n",
    "# create a list of tuples containing the name and model object for each base model\n",
    "base_models = [('nn', nn), ('knn',knn)]\n",
    "\n",
    "# define the meta-model to be used for combining the predictions of the base models\n",
    "rf = RandomForestClassifier(n_estimators=100, random_state=1)\n",
    "\n",
    "# define the stacking classifier object\n",
    "stack = StackingClassifier(estimators=base_models, final_estimator=rf, cv=5)\n",
    "\n",
    "# fit the stacking classifier to the training data\n",
    "stack.fit(X_train, y_train)\n",
    "\n",
    "# make predictions using the stacking classifier\n",
    "y_pred = stack.predict(X_test)\n",
    "\n",
    "# evaluate the accuracy of the predictions\n",
    "accuracy = accuracy_score(y_test, y_pred)\n",
    "print(\"Accuracy:\", accuracy)"
   ]
  },
  {
   "cell_type": "code",
   "execution_count": 8,
   "id": "d4a53325",
   "metadata": {},
   "outputs": [
    {
     "name": "stdout",
     "output_type": "stream",
     "text": [
      "Accuracy: 0.7540983606557377\n"
     ]
    }
   ],
   "source": [
    "# define the machine learning models to be used\n",
    "svm = SVC()\n",
    "knn = KNeighborsClassifier()\n",
    "\n",
    "\n",
    "# create a list of tuples containing the name and model object for each base model\n",
    "base_models = [('svm', svm), ('knn',knn)]\n",
    "\n",
    "# define the meta-model to be used for combining the predictions of the base models\n",
    "rf = RandomForestClassifier(n_estimators=100, random_state=1)\n",
    "\n",
    "# define the stacking classifier object\n",
    "stack = StackingClassifier(estimators=base_models, final_estimator=rf, cv=5)\n",
    "\n",
    "# fit the stacking classifier to the training data\n",
    "stack.fit(X_train, y_train)\n",
    "\n",
    "# make predictions using the stacking classifier\n",
    "y_pred = stack.predict(X_test)\n",
    "\n",
    "# evaluate the accuracy of the predictions\n",
    "accuracy = accuracy_score(y_test, y_pred)\n",
    "print(\"Accuracy:\", accuracy)"
   ]
  },
  {
   "cell_type": "code",
   "execution_count": 9,
   "id": "fe54f53d",
   "metadata": {},
   "outputs": [
    {
     "name": "stderr",
     "output_type": "stream",
     "text": [
      "C:\\Users\\vaibh\\anaconda3\\lib\\site-packages\\sklearn\\neural_network\\_multilayer_perceptron.py:692: ConvergenceWarning: Stochastic Optimizer: Maximum iterations (200) reached and the optimization hasn't converged yet.\n",
      "  warnings.warn(\n",
      "C:\\Users\\vaibh\\anaconda3\\lib\\site-packages\\sklearn\\neural_network\\_multilayer_perceptron.py:692: ConvergenceWarning: Stochastic Optimizer: Maximum iterations (200) reached and the optimization hasn't converged yet.\n",
      "  warnings.warn(\n",
      "C:\\Users\\vaibh\\anaconda3\\lib\\site-packages\\sklearn\\neural_network\\_multilayer_perceptron.py:692: ConvergenceWarning: Stochastic Optimizer: Maximum iterations (200) reached and the optimization hasn't converged yet.\n",
      "  warnings.warn(\n",
      "C:\\Users\\vaibh\\anaconda3\\lib\\site-packages\\sklearn\\neural_network\\_multilayer_perceptron.py:692: ConvergenceWarning: Stochastic Optimizer: Maximum iterations (200) reached and the optimization hasn't converged yet.\n",
      "  warnings.warn(\n",
      "C:\\Users\\vaibh\\anaconda3\\lib\\site-packages\\sklearn\\neural_network\\_multilayer_perceptron.py:692: ConvergenceWarning: Stochastic Optimizer: Maximum iterations (200) reached and the optimization hasn't converged yet.\n",
      "  warnings.warn(\n"
     ]
    },
    {
     "name": "stdout",
     "output_type": "stream",
     "text": [
      "Accuracy: 0.8360655737704918\n"
     ]
    },
    {
     "name": "stderr",
     "output_type": "stream",
     "text": [
      "C:\\Users\\vaibh\\anaconda3\\lib\\site-packages\\sklearn\\neural_network\\_multilayer_perceptron.py:692: ConvergenceWarning: Stochastic Optimizer: Maximum iterations (200) reached and the optimization hasn't converged yet.\n",
      "  warnings.warn(\n"
     ]
    }
   ],
   "source": [
    "# define the machine learning models to be used\n",
    "svm = SVC()\n",
    "nn = MLPClassifier()\n",
    "\n",
    "\n",
    "# create a list of tuples containing the name and model object for each base model\n",
    "base_models = [('svm', svm), ('nn',nn)]\n",
    "\n",
    "# define the meta-model to be used for combining the predictions of the base models\n",
    "rf = RandomForestClassifier(n_estimators=100, random_state=1)\n",
    "\n",
    "# define the stacking classifier object\n",
    "stack = StackingClassifier(estimators=base_models, final_estimator=rf, cv=5)\n",
    "\n",
    "# fit the stacking classifier to the training data\n",
    "stack.fit(X_train, y_train)\n",
    "\n",
    "# make predictions using the stacking classifier\n",
    "y_pred = stack.predict(X_test)\n",
    "\n",
    "# evaluate the accuracy of the predictions\n",
    "accuracy = accuracy_score(y_test, y_pred)\n",
    "print(\"Accuracy:\", accuracy)"
   ]
  },
  {
   "cell_type": "code",
   "execution_count": 10,
   "id": "85815d6b",
   "metadata": {},
   "outputs": [
    {
     "name": "stdout",
     "output_type": "stream",
     "text": [
      "Accuracy: 0.819672131147541\n"
     ]
    }
   ],
   "source": [
    "# define the machine learning models to be used\n",
    "svm = SVC()\n",
    "gnb = GaussianNB()\n",
    "\n",
    "\n",
    "# create a list of tuples containing the name and model object for each base model\n",
    "base_models = [('svm', svm), ('gnb',gnb)]\n",
    "\n",
    "# define the meta-model to be used for combining the predictions of the base models\n",
    "rf = RandomForestClassifier(n_estimators=100, random_state=1)\n",
    "\n",
    "# define the stacking classifier object\n",
    "stack = StackingClassifier(estimators=base_models, final_estimator=rf, cv=5)\n",
    "\n",
    "# fit the stacking classifier to the training data\n",
    "stack.fit(X_train, y_train)\n",
    "\n",
    "# make predictions using the stacking classifier\n",
    "y_pred = stack.predict(X_test)\n",
    "\n",
    "# evaluate the accuracy of the predictions\n",
    "accuracy = accuracy_score(y_test, y_pred)\n",
    "print(\"Accuracy:\", accuracy)"
   ]
  },
  {
   "cell_type": "code",
   "execution_count": 11,
   "id": "2d1d03c6",
   "metadata": {},
   "outputs": [
    {
     "name": "stdout",
     "output_type": "stream",
     "text": [
      "Accuracy: 0.7540983606557377\n"
     ]
    }
   ],
   "source": [
    "# define the machine learning models to be used\n",
    "svm = SVC()\n",
    "dt = DecisionTreeClassifier()\n",
    "\n",
    "\n",
    "# create a list of tuples containing the name and model object for each base model\n",
    "base_models = [('svm', svm), ('dt',dt)]\n",
    "\n",
    "# define the meta-model to be used for combining the predictions of the base models\n",
    "rf = RandomForestClassifier(n_estimators=100, random_state=1)\n",
    "\n",
    "# define the stacking classifier object\n",
    "stack = StackingClassifier(estimators=base_models, final_estimator=rf, cv=5)\n",
    "\n",
    "# fit the stacking classifier to the training data\n",
    "stack.fit(X_train, y_train)\n",
    "\n",
    "# make predictions using the stacking classifier\n",
    "y_pred = stack.predict(X_test)\n",
    "\n",
    "# evaluate the accuracy of the predictions\n",
    "accuracy = accuracy_score(y_test, y_pred)\n",
    "print(\"Accuracy:\", accuracy)"
   ]
  },
  {
   "cell_type": "code",
   "execution_count": null,
   "id": "59c93a31",
   "metadata": {},
   "outputs": [],
   "source": []
  }
 ],
 "metadata": {
  "kernelspec": {
   "display_name": "Python 3 (ipykernel)",
   "language": "python",
   "name": "python3"
  },
  "language_info": {
   "codemirror_mode": {
    "name": "ipython",
    "version": 3
   },
   "file_extension": ".py",
   "mimetype": "text/x-python",
   "name": "python",
   "nbconvert_exporter": "python",
   "pygments_lexer": "ipython3",
   "version": "3.9.12"
  }
 },
 "nbformat": 4,
 "nbformat_minor": 5
}
